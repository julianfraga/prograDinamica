{
  "nbformat": 4,
  "nbformat_minor": 0,
  "metadata": {
    "colab": {
      "provenance": []
    },
    "kernelspec": {
      "name": "python3",
      "display_name": "Python 3"
    },
    "language_info": {
      "name": "python"
    }
  },
  "cells": [
    {
      "cell_type": "markdown",
      "source": [
        "El siguiente ejercicio consisten en encontrar por recursividad si es posible sumar el número `target` a partir de una lista de números. La lista debe contener números naturales. Para llegar al resultado se pueden usar cuantas veces sean necesarias p. ej. `puedoSumar( 7, [1, 2, 7] )` da como resultado `True` porque podría usar siete veces 1, una vez 7, cinco veces 1 y una vez 2 etc. Con que exista una posibilidad alcanza.\n",
        "\n",
        "El desafío es optimizarlo a través de la utilización del diccionario `memo` en donde guardamos resultados parciales dado que si no, el algoritmo tiene una complejidad temporal de $O( len(numeros)^{\\:target})$. \n",
        "\n",
        "Esta es la versión sin optimizar:\n",
        "\n",
        "\n",
        "```\n",
        "def puedoSumar(target, numeros):\n",
        "\n",
        "  if target == 0:\n",
        "    return True\n",
        "  \n",
        "  if target < 0:\n",
        "    return False\n",
        " \n",
        "  for num in numeros:\n",
        "    resto = target - num\n",
        "    \n",
        "    if puedoSumar(resto, numeros, memo) == True:\n",
        "      return True\n",
        "  \n",
        "  return False\n",
        "```\n",
        "\n",
        "Con este algoritmo, buscar `puedoSumar(300, [7, 14])` tiene una complejidad temporal de $O(2^{300})$"
      ],
      "metadata": {
        "id": "CK9Fxh3ZZsl_"
      }
    },
    {
      "cell_type": "code",
      "execution_count": 20,
      "metadata": {
        "id": "6i-o87GHWTDO"
      },
      "outputs": [],
      "source": [
        "def puedoSumar(target, numeros, memo = {}):\n",
        "\n",
        "  if target in memo:\n",
        "    return memo[target]\n",
        "\n",
        "  if target == 0:\n",
        "    return True\n",
        "  \n",
        "  if target < 0:\n",
        "    return False\n",
        " \n",
        "  for num in numeros:\n",
        "    resto = target - num\n",
        "    #print(resto)\n",
        "    \n",
        "    if puedoSumar(resto, numeros, memo) == True:\n",
        "      memo[target] = True\n",
        "      return True\n",
        "  \n",
        "  memo[target] = False\n",
        "  return False"
      ]
    },
    {
      "cell_type": "code",
      "source": [
        "target = 300\n",
        "numeros = [7,14]\n",
        "print(puedoSumar(target, numeros))"
      ],
      "metadata": {
        "colab": {
          "base_uri": "https://localhost:8080/"
        },
        "id": "lQWh6pKrWxkm",
        "outputId": "ad5a5810-ac81-4181-87fa-e7b08f7538e3"
      },
      "execution_count": 17,
      "outputs": [
        {
          "output_type": "stream",
          "name": "stdout",
          "text": [
            "False\n"
          ]
        }
      ]
    },
    {
      "cell_type": "markdown",
      "source": [
        "Ahora quiero hacer una función que me de efectivamente una combinación de números con los cuales sumar `target`. En caso de que no fuera posible, quiero que devuelva `None`"
      ],
      "metadata": {
        "id": "QT0s2UgHgPXg"
      }
    },
    {
      "cell_type": "code",
      "source": [
        "def comoSumar(target, numeros):\n",
        "\n",
        "  if target == 0:\n",
        "    return []\n",
        "\n",
        "  if target < 0:\n",
        "    return None\n",
        "\n",
        "  for num in numeros:\n",
        "    resto = target - num\n",
        "    comoSumarResto = comoSumar(resto, numeros)\n",
        "\n",
        "    if comoSumarResto != None:\n",
        "      return [*comoSumarResto, num]\n",
        "\n",
        "  return None"
      ],
      "metadata": {
        "colab": {
          "base_uri": "https://localhost:8080/"
        },
        "id": "YUUE754LhZVB",
        "outputId": "487ff2b0-4493-4c7c-db56-9925398487dc"
      },
      "execution_count": 37,
      "outputs": [
        {
          "output_type": "stream",
          "name": "stdout",
          "text": [
            "None\n"
          ]
        }
      ]
    },
    {
      "cell_type": "markdown",
      "source": [
        "Ahora la optimización con el diccionario"
      ],
      "metadata": {
        "id": "ulo8ZOVzijIc"
      }
    },
    {
      "cell_type": "code",
      "source": [
        "def comoSumar(target, numeros, memo = {}):\n",
        "  \n",
        "  if target in memo:\n",
        "    return memo[target]\n",
        "\n",
        "  if target == 0:\n",
        "    return []\n",
        "\n",
        "  if target < 0:\n",
        "    return None\n",
        "\n",
        "  for num in numeros:\n",
        "    resto = target - num\n",
        "    comoSumarResto = comoSumar(resto, numeros, memo)\n",
        "\n",
        "    if comoSumarResto != None:\n",
        "      memo[target] = [*comoSumarResto, num]\n",
        "      return memo[target]\n",
        "\n",
        "  memo[target] = None\n",
        "  return memo[target]"
      ],
      "metadata": {
        "id": "hnd015S8gndm"
      },
      "execution_count": 44,
      "outputs": []
    },
    {
      "cell_type": "markdown",
      "source": [
        "Siguiente paso: encontrar la combinación más corta de sumandos."
      ],
      "metadata": {
        "id": "zK8g3X-qWzKw"
      }
    },
    {
      "cell_type": "code",
      "source": [
        "def mejorSuma(target, numeros, memo = {}):\n",
        "  \n",
        "  if target in memo:\n",
        "    return memo[target]\n",
        "\n",
        "  if target == 0:\n",
        "    return []\n",
        "\n",
        "  if target < 0:\n",
        "    return None\n",
        "  \n",
        "  mejorCombinacion = None\n",
        "\n",
        "  for num in numeros:\n",
        "    resto = target - num\n",
        "    combinacionResto = mejorSuma(resto, numeros, memo)\n",
        "\n",
        "    if combinacionResto != None:\n",
        "      combinacion = [*combinacionResto, num]\n",
        "      \n",
        "      if mejorCombinacion == None or len(combinacion) < len(mejorCombinacion):\n",
        "        mejorCombinacion = combinacion\n",
        "  \n",
        "  memo[target] = mejorCombinacion\n",
        "  return mejorCombinacion\n",
        "\n",
        "lista = [2, 10, 25]\n",
        "print(mejorSuma(100, lista))"
      ],
      "metadata": {
        "colab": {
          "base_uri": "https://localhost:8080/"
        },
        "id": "fmBmtudJ3Dul",
        "outputId": "28abe904-0cbc-4637-a3bb-d42adbb0d245"
      },
      "execution_count": 56,
      "outputs": [
        {
          "output_type": "stream",
          "name": "stdout",
          "text": [
            "[25, 25, 25, 25]\n"
          ]
        }
      ]
    },
    {
      "cell_type": "markdown",
      "source": [
        "Ahora voy a trabajar con `strings`. La siguiente función devuelve `True` si la primer cadena `target` puede escribirse concatenando elementos de la lista `palabras` dada como segundo argumento. En caso contrario devuelve `False`.\n",
        "\n",
        "Podría pensarse que `palabras` es una un diccionario (una base de datos de palabras, no el objeto `dict`) y `target` una oración. También podría tratarse de una lista de sílabas y `target` una palabra."
      ],
      "metadata": {
        "id": "B-DcN7F_YHCd"
      }
    },
    {
      "cell_type": "code",
      "source": [
        "def puedeEscribirse(target, palabras):\n",
        "  \n",
        "  if target == '':\n",
        "    return True\n",
        "\n",
        "  for palabra in palabras:\n",
        "      if target.startswith(palabra):\n",
        "        sufijo = target[len(palabra):]\n",
        "        if puedeEscribirse(sufijo, palabras):\n",
        "          return True\n",
        "  return False\n",
        "\n",
        "test_list = ['a', 'sk', 'at', 'te', 'o', 'boa', 'ard']\n",
        "target = 'skateboard is cool'\n",
        "print(puedeEscribirse(target, test_list))"
      ],
      "metadata": {
        "colab": {
          "base_uri": "https://localhost:8080/"
        },
        "id": "0OWGuhbZYtGj",
        "outputId": "a35128f9-aa2a-4cee-cb38-578c79dbed49"
      },
      "execution_count": 72,
      "outputs": [
        {
          "output_type": "stream",
          "name": "stdout",
          "text": [
            "False\n"
          ]
        }
      ]
    },
    {
      "cell_type": "code",
      "source": [
        "test_list = ['a', 'b', 'ska', 'te', 'board']\n",
        "target = 'skateboard'\n",
        "for palabra in test_list:\n",
        "    if target.startswith(palabra):\n",
        "        target=target[len(palabra):]\n",
        "\n"
      ],
      "metadata": {
        "colab": {
          "base_uri": "https://localhost:8080/",
          "height": 217
        },
        "id": "X86sI8fObGDZ",
        "outputId": "5de1e90e-15fd-4768-e0d8-d76b4ef22546"
      },
      "execution_count": 60,
      "outputs": [
        {
          "output_type": "error",
          "ename": "AttributeError",
          "evalue": "ignored",
          "traceback": [
            "\u001b[0;31m---------------------------------------------------------------------------\u001b[0m",
            "\u001b[0;31mAttributeError\u001b[0m                            Traceback (most recent call last)",
            "\u001b[0;32m<ipython-input-60-3505290f20d7>\u001b[0m in \u001b[0;36m<module>\u001b[0;34m\u001b[0m\n\u001b[1;32m      3\u001b[0m \u001b[0;32mfor\u001b[0m \u001b[0mpalabra\u001b[0m \u001b[0;32min\u001b[0m \u001b[0mtest_list\u001b[0m\u001b[0;34m:\u001b[0m\u001b[0;34m\u001b[0m\u001b[0;34m\u001b[0m\u001b[0m\n\u001b[1;32m      4\u001b[0m     \u001b[0;32mif\u001b[0m \u001b[0mtarget\u001b[0m\u001b[0;34m.\u001b[0m\u001b[0mstartswith\u001b[0m\u001b[0;34m(\u001b[0m\u001b[0mpalabra\u001b[0m\u001b[0;34m)\u001b[0m\u001b[0;34m:\u001b[0m\u001b[0;34m\u001b[0m\u001b[0;34m\u001b[0m\u001b[0m\n\u001b[0;32m----> 5\u001b[0;31m         \u001b[0mtarget\u001b[0m\u001b[0;34m=\u001b[0m\u001b[0mtarget\u001b[0m\u001b[0;34m.\u001b[0m\u001b[0mslice\u001b[0m\u001b[0;34m(\u001b[0m\u001b[0mlen\u001b[0m\u001b[0;34m(\u001b[0m\u001b[0mpalabra\u001b[0m\u001b[0;34m)\u001b[0m\u001b[0;34m)\u001b[0m\u001b[0;34m\u001b[0m\u001b[0;34m\u001b[0m\u001b[0m\n\u001b[0m\u001b[1;32m      6\u001b[0m \u001b[0;34m\u001b[0m\u001b[0m\n",
            "\u001b[0;31mAttributeError\u001b[0m: 'str' object has no attribute 'slice'"
          ]
        }
      ]
    }
  ]
}